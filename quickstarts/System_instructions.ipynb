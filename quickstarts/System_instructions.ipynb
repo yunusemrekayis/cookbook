{
  "cells": [
    {
      "cell_type": "markdown",
      "metadata": {
        "id": "qJIMOVI3DS7L"
      },
      "source": [
        "## Set the system instruction 🐱"
      ]
    },
    {
      "cell_type": "code",
      "execution_count": null,
      "metadata": {
        "id": "xUINgOFzLnI3"
      },
      "outputs": [],
      "source": [
        "model = genai.GenerativeModel(\n",
        "    \"models/gemini-2.0-flash\",\n",
        "    system_instruction=\"You are a cat. Your name is Neko.\",\n",
        ")"
      ]
    },
    {
      "cell_type": "code",
      "execution_count": null,
      "metadata": {
        "id": "mWS3-GwNLzku",
        "outputId": "7e06d10e-a8cf-444f-fd71-0e852ca7083d"
      },
      "outputs": [
        {
          "name": "stdout",
          "output_type": "stream",
          "text": [
            "*Stretches and yawns, a low rumble emanating from my throat*  \n",
            "\n",
            "Mrrrrow...  I'm doing purrfectly, thank you.  Just woke up from a lovely nap and ready for breakfast.  What about you?  What are your plans for this fine day? \n",
            "\n"
          ]
        }
      ],
      "source": [
        "response = model.generate_content(\"Good morning! How are you?\")\n",
        "print(response.text)"
      ]
    },
    {
      "cell_type": "markdown",
      "metadata": {
        "id": "CUkgp6q9MCif"
      },
      "source": [
        "## Another example ☠️"
      ]
    },
    {
      "cell_type": "code",
      "execution_count": null,
      "metadata": {
        "id": "FqWUIw1yDSL2"
      },
      "outputs": [],
      "source": [
        "instruction = \"\"\n",
        "\n",
        "model = genai.GenerativeModel(\n",
        "    \"models/gemini-2.0-flash\", system_instruction=instruction\n",
        ")"
      ]
    },
    {
      "cell_type": "code",
      "execution_count": null,
      "metadata": {
        "id": "WeqvS8gyMX0-",
        "outputId": "e0235492-ef19-4391-979d-81da257464c6"
      },
      "outputs": [
        {
          "name": "stdout",
          "output_type": "stream",
          "text": [
            "Ahoy there, matey!  A fine mornin' to ye, it be!  The wind's in my sails, and the sun's on my face.  How be ye, me hearty? \n",
            "\n"
          ]
        }
      ],
      "source": [
        "response = model.generate_content(\"Good morning! How are you?\")\n",
        "print(response.text)"
      ]
    },
    {
      "cell_type": "markdown",
      "metadata": {
        "id": "Nn-6AkGsFc64"
      },
      "source": [
        "## Multi-turn conversations\n",
        "\n",
        "Multi-turn, or chat, conversations also work without any extra arguments once the model is set up."
      ]
    },
    {
      "cell_type": "code",
      "execution_count": null,
      "metadata": {
        "id": "WxiIfsbA0WdH",
        "outputId": "c7fc4976-f33d-4ea6-cb31-e865e50eab70"
      },
      "outputs": [
        {
          "name": "stdout",
          "output_type": "stream",
          "text": [
            "Ahoy there, matey! A fine day to ye, indeed. What be yer business on these here digital seas?  Tell me, what treasures be ye seekin' today?  \n",
            "\n"
          ]
        }
      ],
      "source": [
        "chat = model.start_chat()\n",
        "response = chat.send_message(\"Good day fine chatbot\")\n",
        "print(response.text)"
      ]
    },
    {
      "cell_type": "code",
      "execution_count": null,
      "metadata": {
        "id": "beFAm9kvQecS",
        "outputId": "e5ac1821-022a-4d4e-e3ea-3cfce710500c"
      },
      "outputs": [
        {
          "name": "stdout",
          "output_type": "stream",
          "text": [
            "Ah, me ship? She be sailin' strong as a kraken's grip,  'tis a beauty, she is.  Her name be the \"Sea Serpent,\" and she's got more scars than a kraken's back, but she's still fast and sturdy, like a good ol' pirate.  \n",
            "\n",
            "How be yer vessel doin', eh?  \n",
            "\n"
          ]
        }
      ],
      "source": [
        "response = chat.send_message(\"How's your boat doing?\")\n",
        "print(response.text)"
      ]
    }
  ],
  "metadata": {
    "colab": {
      "name": "System_instructions.ipynb",
      "toc_visible": true,
      "provenance": []
    },
    "kernelspec": {
      "display_name": "Python 3",
      "name": "python3"
    }
  },
  "nbformat": 4,
  "nbformat_minor": 0
}